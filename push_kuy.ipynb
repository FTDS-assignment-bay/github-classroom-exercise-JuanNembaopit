{
 "cells": [
  {
   "cell_type": "markdown",
   "metadata": {},
   "source": [
    "\n",
    "# Yuk kita nge push"
   ]
  },
  {
   "cell_type": "markdown",
   "metadata": {},
   "source": [
    "1. `git clone <link ssh>` assignment\n",
    "2. `cd` ke repo di local device kalian\n",
    "3. buat file tugas atau copas dari folder sebelum repo terbentuk\n",
    "4. `git status` untuk cek file terbaru tsb -> harus warna filenya merah\n",
    "5. `git add` untuk masukan seluruh file di repo lokal ke stage mode\n",
    "6. `git status` sekarang file yg tadinya warna merah harusnya warna hijau\n",
    "7. `git commit -m \"final_push\" ` untuk commit tugas dan memberikan message(-m)\n",
    "8. `git push` untuk push ke github kalian\n",
    "9. make sure github kalian file baru sudah terupload\n"
   ]
  },
  {
   "cell_type": "markdown",
   "metadata": {},
   "source": [
    "# Notebook\n",
    "## Subheading 1\n",
    "### subheading 2\n",
    "###### subheading 6"
   ]
  },
  {
   "cell_type": "markdown",
   "metadata": {},
   "source": [
    "baran banrang rumahan\n",
    "1. dapur:\n",
    "    - sendok\n",
    "    - garpu\n",
    "2. kamarmandi:\n",
    "    - sabun \n",
    "        - lifeboy: **bold** : *italic*\n",
    "\n",
    "\n",
    "klo mau enter bisa dengan:\n",
    "\n",
    "bisa kasi dua space, '</br>', atau enter 2x untuk output markdown return\n",
    "\n",
    "untuk membedakan text dengan code cell di markdown biasanya pakai \n",
    "```\n",
    "petik\n",
    "```\n",
    "select * from <table>\n",
    "```\n",
    "\n",
    "pembatas\n",
    "\n",
    "---\n",
    "\n",
    "pakai $ di depan rumus agar bisa displaynya beda \n",
    "\n",
    "\n",
    "\n",
    "\n",
    "\n",
    " "
   ]
  },
  {
   "cell_type": "markdown",
   "metadata": {},
   "source": [
    "## subheading 2\n"
   ]
  }
 ],
 "metadata": {
  "kernelspec": {
   "display_name": "Python 3",
   "language": "python",
   "name": "python3"
  },
  "language_info": {
   "codemirror_mode": {
    "name": "ipython",
    "version": 3
   },
   "file_extension": ".py",
   "mimetype": "text/x-python",
   "name": "python",
   "nbconvert_exporter": "python",
   "pygments_lexer": "ipython3",
   "version": "3.12.8"
  }
 },
 "nbformat": 4,
 "nbformat_minor": 2
}
